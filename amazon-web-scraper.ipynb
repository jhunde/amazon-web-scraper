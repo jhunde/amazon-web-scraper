{
 "cells": [
  {
   "cell_type": "code",
   "execution_count": 1,
   "id": "9c71a346-fbc5-4602-8eff-9bd0904975ff",
   "metadata": {},
   "outputs": [],
   "source": [
    "import csv \n",
    "from bs4 import BeautifulSoup\n",
    "from selenium import webdriver"
   ]
  },
  {
   "cell_type": "code",
   "execution_count": 2,
   "id": "b742db53-7a86-493f-a9a4-b3925f46aaf7",
   "metadata": {},
   "outputs": [
    {
     "data": {
      "text/plain": [
       "'\\n# Google Chrome\\nfrom selenium.webdriver.chrome.service import Service\\nservice = Service()\\noptions = webdriver.ChromeOptions()\\ndriver = webdriver.Chrome(service = service, options=options)\\n'"
      ]
     },
     "execution_count": 2,
     "metadata": {},
     "output_type": "execute_result"
    }
   ],
   "source": [
    "# Firefox \n",
    "\n",
    "options = webdriver.FirefoxOptions()\n",
    "driver = webdriver.Firefox(options=options)\n",
    "\n",
    "\n",
    "'''\n",
    "# Google Chrome\n",
    "from selenium.webdriver.chrome.service import Service\n",
    "service = Service()\n",
    "options = webdriver.ChromeOptions()\n",
    "driver = webdriver.Chrome(service = service, options=options)\n",
    "'''"
   ]
  },
  {
   "cell_type": "code",
   "execution_count": 3,
   "id": "b810ee84-f425-4b1d-8f50-0f199f228d36",
   "metadata": {},
   "outputs": [],
   "source": [
    "url = \"https://www.amazon.com\"\n",
    "driver.get(url)"
   ]
  },
  {
   "cell_type": "code",
   "execution_count": 4,
   "id": "b329c820-b6eb-4422-ae72-96c772cee6a0",
   "metadata": {},
   "outputs": [],
   "source": [
    "def get_url(search_item):\n",
    "    # generate url from seach term\n",
    "    #   test a different approach here \n",
    "    template = \"https://www.amazon.com/s?k={}&crid=2H2VCCND18SAD&sprefix=tv%2Caps%2C613&ref=nb_sb_noss_1\"\n",
    "    search_item = search_item.replace(' ', '+')  # using '+' char in the place of an empty space char \n",
    "    return template.format(search_item)"
   ]
  },
  {
   "cell_type": "code",
   "execution_count": 5,
   "id": "576f1cc9-9b42-43a8-8a68-239e56c4ff16",
   "metadata": {},
   "outputs": [],
   "source": [
    "# test\n",
    "url = get_url(\"ultrawide monitor\")"
   ]
  },
  {
   "cell_type": "code",
   "execution_count": 6,
   "id": "f4e29611-3faa-4260-a985-10a96e23f3c8",
   "metadata": {},
   "outputs": [
    {
     "name": "stdout",
     "output_type": "stream",
     "text": [
      "https://www.amazon.com/s?k=ultrawide+monitor&crid=2H2VCCND18SAD&sprefix=tv%2Caps%2C613&ref=nb_sb_noss_1\n"
     ]
    }
   ],
   "source": [
    "# Test URL (search term)\n",
    "print(url)"
   ]
  },
  {
   "cell_type": "code",
   "execution_count": 7,
   "id": "0b43d232-88c8-4163-bc78-fbd84ddca67d",
   "metadata": {},
   "outputs": [],
   "source": [
    "driver.get(url)"
   ]
  },
  {
   "cell_type": "code",
   "execution_count": 8,
   "id": "42182c7b-850a-402a-b034-e2f21f9d7c7d",
   "metadata": {},
   "outputs": [
    {
     "data": {
      "text/plain": [
       "21"
      ]
     },
     "execution_count": 8,
     "metadata": {},
     "output_type": "execute_result"
    }
   ],
   "source": [
    "# Extract collections \n",
    "soup = BeautifulSoup(driver.page_source, 'html.parser')\n",
    "results = soup.find_all('div', {\"data-component-type\": \"s-search-result\"})\n",
    "(len(results))"
   ]
  },
  {
   "cell_type": "code",
   "execution_count": 9,
   "id": "bc92fcfa-7daa-4973-ba41-8a6b7e2f6e9d",
   "metadata": {},
   "outputs": [],
   "source": [
    "# Prototype the record\n",
    "item = results[0]\n",
    "# atag = item.div.a.h2  # assaing a tag to variable\n",
    "# description = atag.text.strip()\n",
    "# url = 'https://www.amazon.com' + atag.get('href')\n",
    "\n",
    "# h2 = item.find(\"h2\")    \n",
    "# atag = h2.find(\"a\", href=True)\n",
    "# print(atag)"
   ]
  },
  {
   "cell_type": "code",
   "execution_count": 10,
   "id": "a67bb40a-8a16-4946-8a8a-02f509c228c8",
   "metadata": {},
   "outputs": [],
   "source": [
    "atag = item.div.a"
   ]
  },
  {
   "cell_type": "code",
   "execution_count": 11,
   "id": "18ef7fa6-73db-47c0-bfdf-dc6c359b1b92",
   "metadata": {},
   "outputs": [
    {
     "name": "stdout",
     "output_type": "stream",
     "text": [
      "<a aria-hidden=\"true\" class=\"a-link-normal s-no-outline\" href=\"/sspa/click?ie=UTF8&amp;spc=MTo1MDY2NzY4NzEzNDcyNTM5OjE3NTg2OTcwMjg6c3BfYXRmOjMwMDk1ODgzMTI3MjEwMjo6MDo6&amp;url=%2FCRUA-Ultrawide-Gaming-Monitor-Built%2Fdp%2FB0FMRCFLB2%2Fref%3Dsr_1_1_sspa%3Fcrid%3D2H2VCCND18SAD%26dib%3DeyJ2IjoiMSJ9.jGur4UEHG5yneaVRfKNiEATxJ52P1TD5F_je2r2DA-yE5GBM-gu2tlshaM4FHeL82HtbHj1_k3q0tEQp1Udra4tGMtzMhhamlIKcdQleGzr3Rj9DWmNwIlU5UNQUnKKRXGQq1E-MWmXCbnY8pKWlp2jOWWCUxdkZmdqDZTnqe-UnK3vPAA98j54oUwLw_zwipYYA38h8J0eupLewBr7UfxQXeIbdZV-ST1fLag01fTg.y3WBXCYWiNdX6ydEWKqOMduuJoynmumwsTKemeRszX0%26dib_tag%3Dse%26keywords%3Dultrawide%2Bmonitor%26qid%3D1758697028%26sprefix%3Dtv%252Caps%252C613%26sr%3D8-1-spons%26sp_csd%3Dd2lkZ2V0TmFtZT1zcF9hdGY%26psc%3D1\" tabindex=\"-1\"><div class=\"a-section aok-relative s-image-fixed-height\"><img alt=\"Sponsored Ad - CRUA 34'' Ultrawide Gaming Monitor, 21:9 UWQHD 3440x1440 80Hz IPS Panel Computer Monitors with Built-in Spe...\" aria-hidden=\"true\" class=\"s-image\" data-image-index=\"1\" data-image-latency=\"s-product-image\" data-image-load=\"\" data-image-source-density=\"1\" src=\"https://m.media-amazon.com/images/I/71RTNsgXE8L._AC_UY218_.jpg\" srcset=\"https://m.media-amazon.com/images/I/71RTNsgXE8L._AC_UY218_.jpg 1x, https://m.media-amazon.com/images/I/71RTNsgXE8L._AC_UY327_QL65_.jpg 1.5x, https://m.media-amazon.com/images/I/71RTNsgXE8L._AC_UY436_QL65_.jpg 2x, https://m.media-amazon.com/images/I/71RTNsgXE8L._AC_UY545_QL65_.jpg 2.5x, https://m.media-amazon.com/images/I/71RTNsgXE8L._AC_UY654_QL65_.jpg 3x\"/></div></a>\n"
     ]
    }
   ],
   "source": [
    "print(atag)"
   ]
  },
  {
   "cell_type": "code",
   "execution_count": 12,
   "id": "3e8e3461-41c0-4e11-b19e-f7b8b4f4e2cf",
   "metadata": {},
   "outputs": [],
   "source": [
    "description = atag.text.strip()"
   ]
  },
  {
   "cell_type": "code",
   "execution_count": 13,
   "id": "5de1debb-c2c0-4e81-9d43-7c9b0dea99e3",
   "metadata": {},
   "outputs": [],
   "source": [
    "url = 'https://amazon/' + atag.get('href')"
   ]
  },
  {
   "cell_type": "code",
   "execution_count": 14,
   "id": "adf6990e-7c08-4949-b5b0-f300a87bfdea",
   "metadata": {},
   "outputs": [
    {
     "name": "stdout",
     "output_type": "stream",
     "text": [
      "https://amazon//sspa/click?ie=UTF8&spc=MTo1MDY2NzY4NzEzNDcyNTM5OjE3NTg2OTcwMjg6c3BfYXRmOjMwMDk1ODgzMTI3MjEwMjo6MDo6&url=%2FCRUA-Ultrawide-Gaming-Monitor-Built%2Fdp%2FB0FMRCFLB2%2Fref%3Dsr_1_1_sspa%3Fcrid%3D2H2VCCND18SAD%26dib%3DeyJ2IjoiMSJ9.jGur4UEHG5yneaVRfKNiEATxJ52P1TD5F_je2r2DA-yE5GBM-gu2tlshaM4FHeL82HtbHj1_k3q0tEQp1Udra4tGMtzMhhamlIKcdQleGzr3Rj9DWmNwIlU5UNQUnKKRXGQq1E-MWmXCbnY8pKWlp2jOWWCUxdkZmdqDZTnqe-UnK3vPAA98j54oUwLw_zwipYYA38h8J0eupLewBr7UfxQXeIbdZV-ST1fLag01fTg.y3WBXCYWiNdX6ydEWKqOMduuJoynmumwsTKemeRszX0%26dib_tag%3Dse%26keywords%3Dultrawide%2Bmonitor%26qid%3D1758697028%26sprefix%3Dtv%252Caps%252C613%26sr%3D8-1-spons%26sp_csd%3Dd2lkZ2V0TmFtZT1zcF9hdGY%26psc%3D1\n"
     ]
    }
   ],
   "source": [
    "print(url)"
   ]
  },
  {
   "cell_type": "code",
   "execution_count": 15,
   "id": "b3a8a4e1-8cd0-44f1-83de-710645dcb623",
   "metadata": {},
   "outputs": [
    {
     "name": "stdout",
     "output_type": "stream",
     "text": [
      "<a aria-hidden=\"true\" class=\"a-link-normal s-no-outline\" href=\"/sspa/click?ie=UTF8&amp;spc=MTo1MDY2NzY4NzEzNDcyNTM5OjE3NTg2OTcwMjg6c3BfYXRmOjMwMDk1ODgzMTI3MjEwMjo6MDo6&amp;url=%2FCRUA-Ultrawide-Gaming-Monitor-Built%2Fdp%2FB0FMRCFLB2%2Fref%3Dsr_1_1_sspa%3Fcrid%3D2H2VCCND18SAD%26dib%3DeyJ2IjoiMSJ9.jGur4UEHG5yneaVRfKNiEATxJ52P1TD5F_je2r2DA-yE5GBM-gu2tlshaM4FHeL82HtbHj1_k3q0tEQp1Udra4tGMtzMhhamlIKcdQleGzr3Rj9DWmNwIlU5UNQUnKKRXGQq1E-MWmXCbnY8pKWlp2jOWWCUxdkZmdqDZTnqe-UnK3vPAA98j54oUwLw_zwipYYA38h8J0eupLewBr7UfxQXeIbdZV-ST1fLag01fTg.y3WBXCYWiNdX6ydEWKqOMduuJoynmumwsTKemeRszX0%26dib_tag%3Dse%26keywords%3Dultrawide%2Bmonitor%26qid%3D1758697028%26sprefix%3Dtv%252Caps%252C613%26sr%3D8-1-spons%26sp_csd%3Dd2lkZ2V0TmFtZT1zcF9hdGY%26psc%3D1\" tabindex=\"-1\"><div class=\"a-section aok-relative s-image-fixed-height\"><img alt=\"Sponsored Ad - CRUA 34'' Ultrawide Gaming Monitor, 21:9 UWQHD 3440x1440 80Hz IPS Panel Computer Monitors with Built-in Spe...\" aria-hidden=\"true\" class=\"s-image\" data-image-index=\"1\" data-image-latency=\"s-product-image\" data-image-load=\"\" data-image-source-density=\"1\" src=\"https://m.media-amazon.com/images/I/71RTNsgXE8L._AC_UY218_.jpg\" srcset=\"https://m.media-amazon.com/images/I/71RTNsgXE8L._AC_UY218_.jpg 1x, https://m.media-amazon.com/images/I/71RTNsgXE8L._AC_UY327_QL65_.jpg 1.5x, https://m.media-amazon.com/images/I/71RTNsgXE8L._AC_UY436_QL65_.jpg 2x, https://m.media-amazon.com/images/I/71RTNsgXE8L._AC_UY545_QL65_.jpg 2.5x, https://m.media-amazon.com/images/I/71RTNsgXE8L._AC_UY654_QL65_.jpg 3x\"/></div></a>\n"
     ]
    }
   ],
   "source": [
    "print(atag)"
   ]
  }
 ],
 "metadata": {
  "kernelspec": {
   "display_name": "Python 3 (ipykernel)",
   "language": "python",
   "name": "python3"
  },
  "language_info": {
   "codemirror_mode": {
    "name": "ipython",
    "version": 3
   },
   "file_extension": ".py",
   "mimetype": "text/x-python",
   "name": "python",
   "nbconvert_exporter": "python",
   "pygments_lexer": "ipython3",
   "version": "3.13.2"
  }
 },
 "nbformat": 4,
 "nbformat_minor": 5
}
