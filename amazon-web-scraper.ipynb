{
 "cells": [
  {
   "cell_type": "code",
   "execution_count": 1,
   "id": "9c71a346-fbc5-4602-8eff-9bd0904975ff",
   "metadata": {},
   "outputs": [],
   "source": [
    "import csv \n",
    "from bs4 import BeautifulSoup\n",
    "from selenium import webdriver"
   ]
  },
  {
   "cell_type": "code",
   "execution_count": 2,
   "id": "b742db53-7a86-493f-a9a4-b3925f46aaf7",
   "metadata": {},
   "outputs": [
    {
     "data": {
      "text/plain": [
       "'\\n# Google Chrome\\nfrom selenium.webdriver.chrome.service import Service\\nservice = Service()\\noptions = webdriver.ChromeOptions()\\ndriver = webdriver.Chrome(service = service, options=options)\\n'"
      ]
     },
     "execution_count": 2,
     "metadata": {},
     "output_type": "execute_result"
    }
   ],
   "source": [
    "# Firefox \n",
    "\n",
    "options = webdriver.FirefoxOptions()\n",
    "driver = webdriver.Firefox(options=options)\n",
    "\n",
    "\n",
    "'''\n",
    "# Google Chrome\n",
    "from selenium.webdriver.chrome.service import Service\n",
    "service = Service()\n",
    "options = webdriver.ChromeOptions()\n",
    "driver = webdriver.Chrome(service = service, options=options)\n",
    "'''"
   ]
  },
  {
   "cell_type": "code",
   "execution_count": 3,
   "id": "b810ee84-f425-4b1d-8f50-0f199f228d36",
   "metadata": {},
   "outputs": [],
   "source": [
    "url = \"https://www.amazon.com\"\n",
    "driver.get(url)"
   ]
  },
  {
   "cell_type": "code",
   "execution_count": 4,
   "id": "b329c820-b6eb-4422-ae72-96c772cee6a0",
   "metadata": {},
   "outputs": [],
   "source": [
    "def get_url(search_item):\n",
    "    # generate url from seach term\n",
    "    #   test a different approach here \n",
    "    template = \"https://www.amazon.com/s?k={}&crid=2H2VCCND18SAD&sprefix=tv%2Caps%2C613&ref=nb_sb_noss_1\"\n",
    "    search_item = search_item.replace(' ', '+')  # using '+' char in the place of an empty space char \n",
    "    return template.format(search_item)"
   ]
  },
  {
   "cell_type": "code",
   "execution_count": 5,
   "id": "576f1cc9-9b42-43a8-8a68-239e56c4ff16",
   "metadata": {},
   "outputs": [],
   "source": [
    "# test\n",
    "url = get_url(\"tv remote\")"
   ]
  },
  {
   "cell_type": "code",
   "execution_count": 6,
   "id": "f4e29611-3faa-4260-a985-10a96e23f3c8",
   "metadata": {},
   "outputs": [
    {
     "name": "stdout",
     "output_type": "stream",
     "text": [
      "https://www.amazon.com/s?k=tv+remote&crid=2H2VCCND18SAD&sprefix=tv%2Caps%2C613&ref=nb_sb_noss_1\n"
     ]
    }
   ],
   "source": [
    "# Test URL (search term)\n",
    "print(url)"
   ]
  },
  {
   "cell_type": "code",
   "execution_count": 7,
   "id": "0b43d232-88c8-4163-bc78-fbd84ddca67d",
   "metadata": {},
   "outputs": [],
   "source": [
    "driver.get(url)"
   ]
  },
  {
   "cell_type": "code",
   "execution_count": 9,
   "id": "42182c7b-850a-402a-b034-e2f21f9d7c7d",
   "metadata": {},
   "outputs": [
    {
     "data": {
      "text/plain": [
       "22"
      ]
     },
     "execution_count": 9,
     "metadata": {},
     "output_type": "execute_result"
    }
   ],
   "source": [
    "# Extract collections \n",
    "soup = BeautifulSoup(driver.page_source, 'html.parser')\n",
    "result = soup.find_all('div', {'data-component-type': 's-search-result'})\n",
    "(len(result))"
   ]
  },
  {
   "cell_type": "code",
   "execution_count": 19,
   "id": "bc92fcfa-7daa-4973-ba41-8a6b7e2f6e9d",
   "metadata": {},
   "outputs": [],
   "source": [
    "# Prototype the record\n",
    "item = result[0]\n",
    "atag = item.h2.a   # assaing a tag to variable\n",
    "# description = atag.text.strip()\n",
    "# url = 'https://www.amazon.com' + atag.get('href')"
   ]
  }
 ],
 "metadata": {
  "kernelspec": {
   "display_name": "Python 3 (ipykernel)",
   "language": "python",
   "name": "python3"
  },
  "language_info": {
   "codemirror_mode": {
    "name": "ipython",
    "version": 3
   },
   "file_extension": ".py",
   "mimetype": "text/x-python",
   "name": "python",
   "nbconvert_exporter": "python",
   "pygments_lexer": "ipython3",
   "version": "3.13.2"
  }
 },
 "nbformat": 4,
 "nbformat_minor": 5
}
