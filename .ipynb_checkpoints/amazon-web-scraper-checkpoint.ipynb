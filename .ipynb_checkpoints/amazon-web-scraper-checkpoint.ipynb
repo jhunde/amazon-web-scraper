{
 "cells": [
  {
   "cell_type": "code",
   "execution_count": 1,
   "id": "9c71a346-fbc5-4602-8eff-9bd0904975ff",
   "metadata": {},
   "outputs": [],
   "source": [
    "import csv \n",
    "from bs4 import BeautifulSoup\n",
    "from selenium import webdriver"
   ]
  },
  {
   "cell_type": "code",
   "execution_count": 2,
   "id": "b742db53-7a86-493f-a9a4-b3925f46aaf7",
   "metadata": {},
   "outputs": [],
   "source": [
    "# Firefox \n",
    "# driver = webdriver.Firefox()\n",
    "\n",
    "# Google Chrome\n",
    "from selenium.webdriver.chrome.service import Service\n",
    "service = Service()\n",
    "options = webdriver.ChromeOptions()\n",
    "driver = webdriver.Chrome(service = service, options=options)"
   ]
  },
  {
   "cell_type": "code",
   "execution_count": 3,
   "id": "b810ee84-f425-4b1d-8f50-0f199f228d36",
   "metadata": {},
   "outputs": [],
   "source": [
    "url = \"https://www.amazon.com\"\n",
    "driver.get(url)"
   ]
  },
  {
   "cell_type": "code",
   "execution_count": 4,
   "id": "b329c820-b6eb-4422-ae72-96c772cee6a0",
   "metadata": {},
   "outputs": [],
   "source": [
    "def get_url(search_item):\n",
    "    # generate url from seach term\n",
    "    #   test a different approach here \n",
    "    template = \"https://www.amazon.com/s?k={}&crid=2H2VCCND18SAD&sprefix=tv%2Caps%2C613&ref=nb_sb_noss_1\"\n",
    "    search_item = search_item.replace(' ', '+')  # using '+' char in the place of an empty space char \n",
    "    return template.format(search_item)"
   ]
  },
  {
   "cell_type": "code",
   "execution_count": 5,
   "id": "576f1cc9-9b42-43a8-8a68-239e56c4ff16",
   "metadata": {},
   "outputs": [],
   "source": [
    "# test\n",
    "url = get_url(\"tv remote\")"
   ]
  },
  {
   "cell_type": "code",
   "execution_count": 6,
   "id": "f4e29611-3faa-4260-a985-10a96e23f3c8",
   "metadata": {},
   "outputs": [
    {
     "name": "stdout",
     "output_type": "stream",
     "text": [
      "https://www.amazon.com/s?k=tv+remote&crid=2H2VCCND18SAD&sprefix=tv%2Caps%2C613&ref=nb_sb_noss_1\n"
     ]
    }
   ],
   "source": [
    "# Test URL (search term)\n",
    "print(url)"
   ]
  }
 ],
 "metadata": {
  "kernelspec": {
   "display_name": "Python 3 (ipykernel)",
   "language": "python",
   "name": "python3"
  },
  "language_info": {
   "codemirror_mode": {
    "name": "ipython",
    "version": 3
   },
   "file_extension": ".py",
   "mimetype": "text/x-python",
   "name": "python",
   "nbconvert_exporter": "python",
   "pygments_lexer": "ipython3",
   "version": "3.13.2"
  }
 },
 "nbformat": 4,
 "nbformat_minor": 5
}
